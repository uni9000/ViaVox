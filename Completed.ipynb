{
 "cells": [
  {
   "cell_type": "code",
   "execution_count": 1,
   "metadata": {
    "colab": {
     "base_uri": "https://localhost:8080/"
    },
    "executionInfo": {
     "elapsed": 472,
     "status": "ok",
     "timestamp": 1730913174999,
     "user": {
      "displayName": "Yoon Cha",
      "userId": "01781890271273290445"
     },
     "user_tz": -540
    },
    "id": "SPQDT258bUbq",
    "outputId": "7ca1bb29-829f-4985-bdf6-3db6f0360a54"
   },
   "outputs": [
    {
     "name": "stdout",
     "output_type": "stream",
     "text": [
      "Collecting flask-cors\n",
      "  Downloading Flask_Cors-5.0.0-py2.py3-none-any.whl (14 kB)\n",
      "Collecting Flask>=0.9\n",
      "  Using cached flask-3.0.3-py3-none-any.whl (101 kB)\n",
      "Requirement already satisfied: importlib-metadata>=3.6.0 in /home/vox/jupyter-env/lib/python3.8/site-packages (from Flask>=0.9->flask-cors) (8.5.0)\n",
      "Collecting itsdangerous>=2.1.2\n",
      "  Using cached itsdangerous-2.2.0-py3-none-any.whl (16 kB)\n",
      "Requirement already satisfied: Jinja2>=3.1.2 in /home/vox/jupyter-env/lib/python3.8/site-packages (from Flask>=0.9->flask-cors) (3.1.4)\n",
      "Collecting Werkzeug>=3.0.0\n",
      "  Downloading werkzeug-3.0.6-py3-none-any.whl (227 kB)\n",
      "\u001b[2K     \u001b[90m━━━━━━━━━━━━━━━━━━━━━━━━━━━━━━━━━━━━━━━\u001b[0m \u001b[32m228.0/228.0 KB\u001b[0m \u001b[31m1.8 MB/s\u001b[0m eta \u001b[36m0:00:00\u001b[0ma \u001b[36m0:00:01\u001b[0m\n",
      "\u001b[?25hCollecting blinker>=1.6.2\n",
      "  Using cached blinker-1.8.2-py3-none-any.whl (9.5 kB)\n",
      "Requirement already satisfied: click>=8.1.3 in /home/vox/jupyter-env/lib/python3.8/site-packages (from Flask>=0.9->flask-cors) (8.1.7)\n",
      "Requirement already satisfied: zipp>=3.20 in /home/vox/jupyter-env/lib/python3.8/site-packages (from importlib-metadata>=3.6.0->Flask>=0.9->flask-cors) (3.20.2)\n",
      "Requirement already satisfied: MarkupSafe>=2.0 in /home/vox/jupyter-env/lib/python3.8/site-packages (from Jinja2>=3.1.2->Flask>=0.9->flask-cors) (2.1.5)\n",
      "Installing collected packages: Werkzeug, itsdangerous, blinker, Flask, flask-cors\n",
      "Successfully installed Flask-3.0.3 Werkzeug-3.0.6 blinker-1.8.2 flask-cors-5.0.0 itsdangerous-2.2.0\n"
     ]
    }
   ],
   "source": [
    "!pip install flask-cors"
   ]
  },
  {
   "cell_type": "code",
   "execution_count": null,
   "metadata": {
    "colab": {
     "base_uri": "https://localhost:8080/"
    },
    "executionInfo": {
     "elapsed": 17878,
     "status": "ok",
     "timestamp": 1730913193323,
     "user": {
      "displayName": "Yoon Cha",
      "userId": "01781890271273290445"
     },
     "user_tz": -540
    },
    "id": "P9jIgljSTqts",
    "outputId": "c9a73bfe-969c-41ed-f7eb-681dd7144cb2"
   },
   "outputs": [
    {
     "name": "stdout",
     "output_type": "stream",
     "text": [
      "\u001b[?25l     \u001b[90m━━━━━━━━━━━━━━━━━━━━━━━━━━━━━━━━━━━━━━━━\u001b[0m \u001b[32m0.0/117.0 kB\u001b[0m \u001b[31m?\u001b[0m eta \u001b[36m-:--:--\u001b[0m\r\n",
      "\u001b[2K     \u001b[90m━━━━━━━━━━━━━━━━━━━━━━━━━━━━━━━━━━━━━━━━\u001b[0m \u001b[32m117.0/117.0 kB\u001b[0m \u001b[31m5.8 MB/s\u001b[0m eta \u001b[36m0:00:00\u001b[0m\n",
      "\u001b[?25h  Preparing metadata (setup.py) ... \u001b[?25l\u001b[?25hdone\n",
      "  Preparing metadata (setup.py) ... \u001b[?25l\u001b[?25hdone\n",
      "\u001b[2K     \u001b[90m━━━━━━━━━━━━━━━━━━━━━━━━━━━━━━━━━━━━━━━━\u001b[0m \u001b[32m59.6/59.6 kB\u001b[0m \u001b[31m4.4 MB/s\u001b[0m eta \u001b[36m0:00:00\u001b[0m\n",
      "\u001b[?25h  Preparing metadata (setup.py) ... \u001b[?25l\u001b[?25hdone\n",
      "\u001b[2K   \u001b[90m━━━━━━━━━━━━━━━━━━━━━━━━━━━━━━━━━━━━━━━━\u001b[0m \u001b[32m208.7/208.7 kB\u001b[0m \u001b[31m11.2 MB/s\u001b[0m eta \u001b[36m0:00:00\u001b[0m\n",
      "\u001b[2K   \u001b[90m━━━━━━━━━━━━━━━━━━━━━━━━━━━━━━━━━━━━━━━━\u001b[0m \u001b[32m811.0/811.0 kB\u001b[0m \u001b[31m37.5 MB/s\u001b[0m eta \u001b[36m0:00:00\u001b[0m\n",
      "\u001b[2K   \u001b[90m━━━━━━━━━━━━━━━━━━━━━━━━━━━━━━━━━━━━━━━━\u001b[0m \u001b[32m79.5/79.5 kB\u001b[0m \u001b[31m6.2 MB/s\u001b[0m eta \u001b[36m0:00:00\u001b[0m\n",
      "\u001b[2K   \u001b[90m━━━━━━━━━━━━━━━━━━━━━━━━━━━━━━━━━━━━━━━━\u001b[0m \u001b[32m58.5/58.5 kB\u001b[0m \u001b[31m4.7 MB/s\u001b[0m eta \u001b[36m0:00:00\u001b[0m\n",
      "\u001b[2K   \u001b[90m━━━━━━━━━━━━━━━━━━━━━━━━━━━━━━━━━━━━━━━━\u001b[0m \u001b[32m48.1/48.1 kB\u001b[0m \u001b[31m4.1 MB/s\u001b[0m eta \u001b[36m0:00:00\u001b[0m\n",
      "\u001b[2K   \u001b[90m━━━━━━━━━━━━━━━━━━━━━━━━━━━━━━━━━━━━━━━━\u001b[0m \u001b[32m51.4/51.4 kB\u001b[0m \u001b[31m4.3 MB/s\u001b[0m eta \u001b[36m0:00:00\u001b[0m\n",
      "\u001b[2K   \u001b[90m━━━━━━━━━━━━━━━━━━━━━━━━━━━━━━━━━━━━━━━━\u001b[0m \u001b[32m120.2/120.2 kB\u001b[0m \u001b[31m9.5 MB/s\u001b[0m eta \u001b[36m0:00:00\u001b[0m\n",
      "\u001b[2K   \u001b[90m━━━━━━━━━━━━━━━━━━━━━━━━━━━━━━━━━━━━━━━━\u001b[0m \u001b[32m824.8/824.8 kB\u001b[0m \u001b[31m50.0 MB/s\u001b[0m eta \u001b[36m0:00:00\u001b[0m\n",
      "\u001b[2K   \u001b[90m━━━━━━━━━━━━━━━━━━━━━━━━━━━━━━━━━━━━━━━━\u001b[0m \u001b[32m101.7/101.7 kB\u001b[0m \u001b[31m8.3 MB/s\u001b[0m eta \u001b[36m0:00:00\u001b[0m\n",
      "\u001b[2K   \u001b[90m━━━━━━━━━━━━━━━━━━━━━━━━━━━━━━━━━━━━━━━━\u001b[0m \u001b[32m50.1/50.1 kB\u001b[0m \u001b[31m3.8 MB/s\u001b[0m eta \u001b[36m0:00:00\u001b[0m\n",
      "\u001b[2K   \u001b[90m━━━━━━━━━━━━━━━━━━━━━━━━━━━━━━━━━━━━━━━━\u001b[0m \u001b[32m890.6/890.6 kB\u001b[0m \u001b[31m47.3 MB/s\u001b[0m eta \u001b[36m0:00:00\u001b[0m\n",
      "\u001b[2K   \u001b[90m━━━━━━━━━━━━━━━━━━━━━━━━━━━━━━━━━━━━━━━━\u001b[0m \u001b[32m362.8/362.8 kB\u001b[0m \u001b[31m27.5 MB/s\u001b[0m eta \u001b[36m0:00:00\u001b[0m\n",
      "\u001b[2K   \u001b[90m━━━━━━━━━━━━━━━━━━━━━━━━━━━━━━━━━━━━━━━━\u001b[0m \u001b[32m815.2/815.2 kB\u001b[0m \u001b[31m46.2 MB/s\u001b[0m eta \u001b[36m0:00:00\u001b[0m\n",
      "\u001b[2K   \u001b[90m━━━━━━━━━━━━━━━━━━━━━━━━━━━━━━━━━━━━━━━━\u001b[0m \u001b[32m233.5/233.5 kB\u001b[0m \u001b[31m17.8 MB/s\u001b[0m eta \u001b[36m0:00:00\u001b[0m\n",
      "\u001b[2K   \u001b[90m━━━━━━━━━━━━━━━━━━━━━━━━━━━━━━━━━━━━━━━━\u001b[0m \u001b[32m117.8/117.8 kB\u001b[0m \u001b[31m11.4 MB/s\u001b[0m eta \u001b[36m0:00:00\u001b[0m\n",
      "\u001b[2K   \u001b[90m━━━━━━━━━━━━━━━━━━━━━━━━━━━━━━━━━━━━━━━━\u001b[0m \u001b[32m722.2/722.2 kB\u001b[0m \u001b[31m42.7 MB/s\u001b[0m eta \u001b[36m0:00:00\u001b[0m\n",
      "\u001b[2K   \u001b[90m━━━━━━━━━━━━━━━━━━━━━━━━━━━━━━━━━━━━━━━━\u001b[0m \u001b[32m78.6/78.6 kB\u001b[0m \u001b[31m6.1 MB/s\u001b[0m eta \u001b[36m0:00:00\u001b[0m\n",
      "\u001b[?25h  Building wheel for antlr4-python3-runtime (setup.py) ... \u001b[?25l\u001b[?25hdone\n",
      "  Building wheel for docopt (setup.py) ... \u001b[?25l\u001b[?25hdone\n",
      "  Building wheel for julius (setup.py) ... \u001b[?25l\u001b[?25hdone\n",
      "\u001b[2K   \u001b[90m━━━━━━━━━━━━━━━━━━━━━━━━━━━━━━━━━━━━━━━━\u001b[0m \u001b[32m1.6/1.6 MB\u001b[0m \u001b[31m25.6 MB/s\u001b[0m eta \u001b[36m0:00:00\u001b[0m\n",
      "\u001b[?25h"
     ]
    }
   ],
   "source": [
    "!pip install -qq pyannote.audio==3.1.1\n",
    "!pip install -qq ipython==7.34.0"
   ]
  },
  {
   "cell_type": "code",
   "execution_count": null,
   "metadata": {
    "colab": {
     "base_uri": "https://localhost:8080/"
    },
    "executionInfo": {
     "elapsed": 3023,
     "status": "ok",
     "timestamp": 1730913199402,
     "user": {
      "displayName": "Yoon Cha",
      "userId": "01781890271273290445"
     },
     "user_tz": -540
    },
    "id": "4GDZaK9oL3gO",
    "outputId": "bfd1c87f-76fe-472b-e640-7e2b21260a1c"
   },
   "outputs": [
    {
     "name": "stdout",
     "output_type": "stream",
     "text": [
      "Requirement already satisfied: pyannote.database in /usr/local/lib/python3.10/dist-packages (5.1.0)\n",
      "Requirement already satisfied: pyannote.core>=4.1 in /usr/local/lib/python3.10/dist-packages (from pyannote.database) (5.0.0)\n",
      "Requirement already satisfied: pyYAML>=3.12 in /usr/local/lib/python3.10/dist-packages (from pyannote.database) (6.0.2)\n",
      "Requirement already satisfied: pandas>=0.19 in /usr/local/lib/python3.10/dist-packages (from pyannote.database) (2.2.2)\n",
      "Requirement already satisfied: typer>=0.12.1 in /usr/local/lib/python3.10/dist-packages (from pyannote.database) (0.12.5)\n",
      "Requirement already satisfied: numpy>=1.22.4 in /usr/local/lib/python3.10/dist-packages (from pandas>=0.19->pyannote.database) (1.26.4)\n",
      "Requirement already satisfied: python-dateutil>=2.8.2 in /usr/local/lib/python3.10/dist-packages (from pandas>=0.19->pyannote.database) (2.8.2)\n",
      "Requirement already satisfied: pytz>=2020.1 in /usr/local/lib/python3.10/dist-packages (from pandas>=0.19->pyannote.database) (2024.2)\n",
      "Requirement already satisfied: tzdata>=2022.7 in /usr/local/lib/python3.10/dist-packages (from pandas>=0.19->pyannote.database) (2024.2)\n",
      "Requirement already satisfied: sortedcontainers>=2.0.4 in /usr/local/lib/python3.10/dist-packages (from pyannote.core>=4.1->pyannote.database) (2.4.0)\n",
      "Requirement already satisfied: scipy>=1.1 in /usr/local/lib/python3.10/dist-packages (from pyannote.core>=4.1->pyannote.database) (1.13.1)\n",
      "Requirement already satisfied: typing-extensions>=3.7.4.1 in /usr/local/lib/python3.10/dist-packages (from pyannote.core>=4.1->pyannote.database) (4.12.2)\n",
      "Requirement already satisfied: click>=8.0.0 in /usr/local/lib/python3.10/dist-packages (from typer>=0.12.1->pyannote.database) (8.1.7)\n",
      "Requirement already satisfied: shellingham>=1.3.0 in /usr/local/lib/python3.10/dist-packages (from typer>=0.12.1->pyannote.database) (1.5.4)\n",
      "Requirement already satisfied: rich>=10.11.0 in /usr/local/lib/python3.10/dist-packages (from typer>=0.12.1->pyannote.database) (13.9.3)\n",
      "Requirement already satisfied: six>=1.5 in /usr/local/lib/python3.10/dist-packages (from python-dateutil>=2.8.2->pandas>=0.19->pyannote.database) (1.16.0)\n",
      "Requirement already satisfied: markdown-it-py>=2.2.0 in /usr/local/lib/python3.10/dist-packages (from rich>=10.11.0->typer>=0.12.1->pyannote.database) (3.0.0)\n",
      "Requirement already satisfied: pygments<3.0.0,>=2.13.0 in /usr/local/lib/python3.10/dist-packages (from rich>=10.11.0->typer>=0.12.1->pyannote.database) (2.18.0)\n",
      "Requirement already satisfied: mdurl~=0.1 in /usr/local/lib/python3.10/dist-packages (from markdown-it-py>=2.2.0->rich>=10.11.0->typer>=0.12.1->pyannote.database) (0.1.2)\n"
     ]
    }
   ],
   "source": [
    "!pip install pyannote.database"
   ]
  },
  {
   "cell_type": "code",
   "execution_count": null,
   "metadata": {
    "colab": {
     "base_uri": "https://localhost:8080/"
    },
    "executionInfo": {
     "elapsed": 18747,
     "status": "ok",
     "timestamp": 1730913226219,
     "user": {
      "displayName": "Yoon Cha",
      "userId": "01781890271273290445"
     },
     "user_tz": -540
    },
    "id": "jJE0wBgOPzQU",
    "outputId": "fb9244b0-0b5d-44cb-d7f5-5debb97b7472"
   },
   "outputs": [
    {
     "name": "stdout",
     "output_type": "stream",
     "text": [
      "Mounted at /content/drive/\n"
     ]
    }
   ],
   "source": [
    "from google.colab import drive\n",
    "drive.mount('/content/drive/')"
   ]
  },
  {
   "cell_type": "code",
   "execution_count": null,
   "metadata": {
    "colab": {
     "base_uri": "https://localhost:8080/"
    },
    "executionInfo": {
     "elapsed": 481,
     "status": "ok",
     "timestamp": 1730913226699,
     "user": {
      "displayName": "Yoon Cha",
      "userId": "01781890271273290445"
     },
     "user_tz": -540
    },
    "id": "dG4F8igvT4aB",
    "outputId": "5412b79d-25d4-45e5-ee9d-ebac4d92a256"
   },
   "outputs": [
    {
     "name": "stdout",
     "output_type": "stream",
     "text": [
      "The token has not been saved to the git credentials helper. Pass `add_to_git_credential=True` in this function directly or `--add-to-git-credential` if using via `huggingface-cli` if you want to set the git credential as well.\n",
      "Token is valid (permission: fineGrained).\n",
      "Your token has been saved to /root/.cache/huggingface/token\n",
      "Login successful\n"
     ]
    }
   ],
   "source": [
    "from huggingface_hub import login\n",
    "login(token=\"Your-Token\")"
   ]
  },
  {
   "cell_type": "code",
   "execution_count": null,
   "metadata": {
    "id": "vsRCTDpCmvHB"
   },
   "outputs": [],
   "source": [
    "import torch\n",
    "import pyannote\n",
    "import numpy as np\n",
    "import pytorch_lightning as pl\n",
    "from pyannote.core import notebook, Segment\n",
    "from pyannote.database import registry, FileFinder\n",
    "from pyannote.audio import Model\n",
    "from pyannote.audio import Inference\n",
    "from pyannote.audio import Pipeline\n",
    "from pyannote.audio.tasks import SpeakerDiarization\n",
    "from pyannote.metrics.diarization import DiarizationErrorRate\n",
    "from pyannote.audio.utils.metric import DiscreteDiarizationErrorRate\n",
    "from copy import deepcopy\n",
    "from pyannote.audio.utils.signal import binarize\n",
    "from pyannote.audio.pipelines.utils import get_devices\n",
    "from pyannote.core import SlidingWindowFeature, Annotation\n",
    "from pyannote.audio.tasks import SpeakerEmbedding\n",
    "from pyannote.audio.tasks import Segmentation\n",
    "from types import MethodType\n",
    "from torch.optim import Adam\n",
    "from pyannote.audio.pipelines import SpeakerDiarization\n",
    "from pyannote.pipeline import Optimizer\n",
    "from pytorch_lightning.callbacks import (\n",
    "    EarlyStopping,\n",
    "    ModelCheckpoint,\n",
    "    RichProgressBar,\n",
    ")"
   ]
  },
  {
   "cell_type": "code",
   "execution_count": null,
   "metadata": {
    "colab": {
     "base_uri": "https://localhost:8080/"
    },
    "executionInfo": {
     "elapsed": 14197,
     "status": "ok",
     "timestamp": 1730913255960,
     "user": {
      "displayName": "Yoon Cha",
      "userId": "01781890271273290445"
     },
     "user_tz": -540
    },
    "id": "DzoWkHB2wyPu",
    "outputId": "24f51c63-f009-4ea4-d01f-10eaaff66125"
   },
   "outputs": [
    {
     "name": "stdout",
     "output_type": "stream",
     "text": [
      "/usr/local/lib/python3.10/dist-packages/pyannote/database/util.py:178: FutureWarning: The 'delim_whitespace' keyword in pd.read_csv is deprecated and will be removed in a future version. Use ``sep='\\s+'`` instead\n",
      "  data = pd.read_csv(\n",
      "/usr/local/lib/python3.10/dist-packages/pyannote/database/util.py:178: FutureWarning: The 'delim_whitespace' keyword in pd.read_csv is deprecated and will be removed in a future version. Use ``sep='\\s+'`` instead\n",
      "  data = pd.read_csv(\n",
      "/usr/local/lib/python3.10/dist-packages/pyannote/database/util.py:284: FutureWarning: The 'delim_whitespace' keyword in pd.read_csv is deprecated and will be removed in a future version. Use ``sep='\\s+'`` instead\n",
      "  data = pd.read_csv(file_uem, names=names, dtype=dtype, delim_whitespace=True)\n",
      "\u001b[92m\u001b[1m\u001b[4mtrain\u001b[0m\n",
      "   48 files\n",
      "   21h56m annotated\n",
      "   21h56m of speech (100%)\n",
      "   206 speakers\n",
      "/usr/local/lib/python3.10/dist-packages/pyannote/database/util.py:178: FutureWarning: The 'delim_whitespace' keyword in pd.read_csv is deprecated and will be removed in a future version. Use ``sep='\\s+'`` instead\n",
      "  data = pd.read_csv(\n",
      "/usr/local/lib/python3.10/dist-packages/pyannote/database/util.py:178: FutureWarning: The 'delim_whitespace' keyword in pd.read_csv is deprecated and will be removed in a future version. Use ``sep='\\s+'`` instead\n",
      "  data = pd.read_csv(\n",
      "/usr/local/lib/python3.10/dist-packages/pyannote/database/util.py:284: FutureWarning: The 'delim_whitespace' keyword in pd.read_csv is deprecated and will be removed in a future version. Use ``sep='\\s+'`` instead\n",
      "  data = pd.read_csv(file_uem, names=names, dtype=dtype, delim_whitespace=True)\n",
      "\u001b[92m\u001b[1m\u001b[4mdevelopment\u001b[0m\n",
      "   2 files\n",
      "   1h16m annotated\n",
      "   1h16m of speech (100%)\n",
      "   16 speakers\n",
      "/usr/local/lib/python3.10/dist-packages/pyannote/database/util.py:178: FutureWarning: The 'delim_whitespace' keyword in pd.read_csv is deprecated and will be removed in a future version. Use ``sep='\\s+'`` instead\n",
      "  data = pd.read_csv(\n",
      "/usr/local/lib/python3.10/dist-packages/pyannote/database/util.py:178: FutureWarning: The 'delim_whitespace' keyword in pd.read_csv is deprecated and will be removed in a future version. Use ``sep='\\s+'`` instead\n",
      "  data = pd.read_csv(\n",
      "/usr/local/lib/python3.10/dist-packages/pyannote/database/util.py:284: FutureWarning: The 'delim_whitespace' keyword in pd.read_csv is deprecated and will be removed in a future version. Use ``sep='\\s+'`` instead\n",
      "  data = pd.read_csv(file_uem, names=names, dtype=dtype, delim_whitespace=True)\n",
      "\u001b[92m\u001b[1m\u001b[4mtest\u001b[0m\n",
      "   1 files\n",
      "   0h31m annotated\n",
      "   0h31m of speech (100%)\n",
      "   8 speakers\n"
     ]
    }
   ],
   "source": [
    "!PYANNOTE_DATABASE_CONFIG=\"/content/drive/MyDrive/Pyannote2/Data/database.yml\" pyannote-database info MyDatabase.SpeakerDiarization.MyProtocol"
   ]
  },
  {
   "cell_type": "code",
   "execution_count": null,
   "metadata": {
    "id": "sKWBMXDtw3vc"
   },
   "outputs": [],
   "source": [
    "from pyannote.database import registry, FileFinder\n",
    "\n",
    "registry.load_database(\"/content/drive/MyDrive/Pyannote2/Data/database.yml\")\n",
    "dataset = registry.get_protocol(\"MyDatabase.SpeakerDiarization.MyProtocol\", {\"audio\": FileFinder()})"
   ]
  },
  {
   "cell_type": "code",
   "execution_count": null,
   "metadata": {
    "colab": {
     "base_uri": "https://localhost:8080/"
    },
    "executionInfo": {
     "elapsed": 743071,
     "status": "ok",
     "timestamp": 1730918211827,
     "user": {
      "displayName": "Yoon Cha",
      "userId": "01781890271273290445"
     },
     "user_tz": -540
    },
    "id": "MtnC9ehnZof5",
    "outputId": "42f85c67-f79a-44ad-e708-46de62278513"
   },
   "outputs": [
    {
     "name": "stderr",
     "output_type": "stream",
     "text": [
      "/usr/local/lib/python3.10/dist-packages/pyannote/database/util.py:178: FutureWarning: The 'delim_whitespace' keyword in pd.read_csv is deprecated and will be removed in a future version. Use ``sep='\\s+'`` instead\n",
      "  data = pd.read_csv(\n",
      "/usr/local/lib/python3.10/dist-packages/pyannote/database/util.py:178: FutureWarning: The 'delim_whitespace' keyword in pd.read_csv is deprecated and will be removed in a future version. Use ``sep='\\s+'`` instead\n",
      "  data = pd.read_csv(\n",
      "/usr/local/lib/python3.10/dist-packages/pyannote/database/util.py:284: FutureWarning: The 'delim_whitespace' keyword in pd.read_csv is deprecated and will be removed in a future version. Use ``sep='\\s+'`` instead\n",
      "  data = pd.read_csv(file_uem, names=names, dtype=dtype, delim_whitespace=True)\n"
     ]
    },
    {
     "name": "stdout",
     "output_type": "stream",
     "text": [
      "The finetuned pipeline reaches a Diarization Error Rate (DER) of 9.3% on MyDatabase.SpeakerDiarization.MyProtocol test set.\n"
     ]
    }
   ],
   "source": [
    "from pyannote.audio.pipelines import SpeakerDiarization\n",
    "from pyannote.audio import Model\n",
    "from pyannote.audio.utils.metric import DiarizationErrorRate\n",
    "import torch\n",
    "\n",
    "# 1. 학습된 모델 로드\n",
    "finetuned_model_path = \"/content/drive/MyDrive/Pyannote2/models/completed/finetuned_best_model.ckpt\"\n",
    "model = Model.from_pretrained(finetuned_model_path).to(torch.device(\"cuda\"))\n",
    "\n",
    "# 2. 최적화된 하이퍼파라미터 값 설정\n",
    "best_segmentation_threshold = 0.6292053016753839\n",
    "best_clustering_threshold = 0.7601635586431199\n",
    "\n",
    "# 3. 학습된 모델 및 최적의 하이퍼파라미터로 파이프라인 구성\n",
    "finetuned_pipeline = SpeakerDiarization(\n",
    "    segmentation=model,\n",
    "    clustering=\"AgglomerativeClustering\"  # OracleClustering 대신 AgglomerativeClustering을 사용합니다.\n",
    ").to(torch.device(\"cuda\"))\n",
    "\n",
    "# 4. 하이퍼파라미터 적용 (clustering 매개변수를 포함합니다)\n",
    "finetuned_pipeline.instantiate({\n",
    "    \"segmentation\": {\n",
    "        \"threshold\": best_segmentation_threshold,\n",
    "        \"min_duration_off\": 0.0\n",
    "    },\n",
    "    \"clustering\": {\n",
    "        \"method\": \"centroid\",           # AgglomerativeClustering에서 사용 가능\n",
    "        \"min_cluster_size\": 15,\n",
    "        \"threshold\": best_clustering_threshold,\n",
    "    },\n",
    "})\n",
    "\n",
    "# 5. 새로운 데이터에 대한 성능 평가\n",
    "metric = DiarizationErrorRate()\n",
    "\n",
    "for file in dataset.test():\n",
    "    # 모델에 입력하여 결과 추론\n",
    "    file[\"finetuned pipeline\"] = finetuned_pipeline(file)\n",
    "    # 성능 측정\n",
    "    metric(file[\"annotation\"], file[\"finetuned pipeline\"], uem=file[\"annotated\"])\n",
    "\n",
    "print(f\"The finetuned pipeline reaches a Diarization Error Rate (DER) of {100 * abs(metric):.1f}% on {dataset.name} test set.\")\n"
   ]
  },
  {
   "cell_type": "markdown",
   "metadata": {
    "id": "jL5HajVew0xj"
   },
   "source": [
    "# 실제 배포시 함수"
   ]
  },
  {
   "cell_type": "code",
   "execution_count": null,
   "metadata": {
    "id": "CG1WSE_upOCi"
   },
   "outputs": [],
   "source": [
    "import torch\n",
    "from pyannote.audio import Pipeline\n",
    "from pyannote.core import Annotation\n",
    "\n",
    "# 미리 설정된 모델과 파라미터 로드\n",
    "finetuned_pipeline = Pipeline.from_pretrained(\"pyannote/speaker-diarization\").to(torch.device(\"cuda\"))\n",
    "finetuned_pipeline.instantiate({\n",
    "    \"segmentation\": {\n",
    "        \"threshold\": 0.6292053016753839,\n",
    "        \"min_duration_off\": 0.52173913046875,\n",
    "    },\n",
    "    \"clustering\": {\n",
    "        \"method\": \"centroid\",\n",
    "        \"min_cluster_size\": 15,\n",
    "        \"threshold\": 0.7601635586431199,\n",
    "    },\n",
    "})\n",
    "\n",
    "def diarize_audio_file(audio_file_path: str) -> Annotation:\n",
    "    # 단일 파일 설정\n",
    "    single_file = {\"uri\": \"unique_identifier\", \"audio\": audio_file_path}\n",
    "\n",
    "    # 파이프라인 적용\n",
    "    diarization_result = finetuned_pipeline(single_file)\n",
    "\n",
    "    return diarization_result\n"
   ]
  }
 ],
 "metadata": {
  "accelerator": "GPU",
  "colab": {
   "authorship_tag": "ABX9TyNQYzvCIXtjqQJP49JK2GvA",
   "gpuType": "L4",
   "provenance": []
  },
  "kernelspec": {
   "display_name": "Python 3 (ipykernel)",
   "language": "python",
   "name": "python3"
  },
  "language_info": {
   "codemirror_mode": {
    "name": "ipython",
    "version": 3
   },
   "file_extension": ".py",
   "mimetype": "text/x-python",
   "name": "python",
   "nbconvert_exporter": "python",
   "pygments_lexer": "ipython3",
   "version": "3.8.20"
  }
 },
 "nbformat": 4,
 "nbformat_minor": 4
}
